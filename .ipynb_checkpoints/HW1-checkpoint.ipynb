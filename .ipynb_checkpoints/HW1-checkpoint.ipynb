{
 "cells": [
  {
   "cell_type": "markdown",
   "metadata": {
    "slideshow": {
     "slide_type": "subslide"
    }
   },
   "source": [
    "### Exercise 1\n",
    "\n",
    "Recall that $ n! $ is read as “$ n $ factorial” and defined as\n",
    "$ n! = n \\times (n - 1) \\times \\cdots \\times 2 \\times 1 $\n",
    "\n",
    "In Julia you can compute this value with `factorial(n)`\n",
    "\n",
    "Write your own version of this function, called `factorial2`, using a `for` loop\n",
    "\n",
    "\n",
    "<a id='jbe-ex2'></a>"
   ]
  },
  {
   "cell_type": "code",
   "execution_count": 29,
   "metadata": {},
   "outputs": [
    {
     "data": {
      "text/plain": [
       "factorial2 (generic function with 1 method)"
      ]
     },
     "execution_count": 29,
     "metadata": {},
     "output_type": "execute_result"
    }
   ],
   "source": [
    "function factorial2(n)\n",
    "    return prod(i for i in 2:n)\n",
    "end"
   ]
  },
  {
   "cell_type": "code",
   "execution_count": 30,
   "metadata": {},
   "outputs": [
    {
     "name": "stdout",
     "output_type": "stream",
     "text": [
      "2\n",
      "6\n",
      "24\n",
      "120\n"
     ]
    }
   ],
   "source": [
    "#Tests\n",
    "println(factorial2(2))\n",
    "println(factorial2(3))\n",
    "println(factorial2(4))\n",
    "println(factorial2(5))"
   ]
  },
  {
   "cell_type": "markdown",
   "metadata": {
    "slideshow": {
     "slide_type": "subslide"
    }
   },
   "source": [
    "### Exercise 2\n",
    "\n",
    "The [binomial random variable](https://en.wikipedia.org/wiki/Binomial_distribution) $ Y \\sim Bin(n, p) $ represents\n",
    "\n",
    "- number of successes in $ n $ binary trials  \n",
    "- each trial succeeds with probability $ p $  \n",
    "\n",
    "\n",
    "Using only `rand()` from the set of Julia’s built-in random number\n",
    "generators (not the `Distributions` package), write a function `binomial_rv` such that `binomial_rv(n, p)` generates one draw of $ Y $\n",
    "\n",
    "Hint: If $ U $ is uniform on $ (0, 1) $ and $ p \\in (0,1) $, then the expression `U < p` evaluates to `true` with probability $ p $\n",
    "\n",
    "\n",
    "<a id='jbe-ex3'></a>"
   ]
  },
  {
   "cell_type": "code",
   "execution_count": 31,
   "metadata": {},
   "outputs": [
    {
     "data": {
      "text/plain": [
       "binomial_rv (generic function with 1 method)"
      ]
     },
     "execution_count": 31,
     "metadata": {},
     "output_type": "execute_result"
    }
   ],
   "source": [
    "function binomial_rv(n, p)\n",
    "    return count(x->x<=p, rand(n))\n",
    "end"
   ]
  },
  {
   "cell_type": "code",
   "execution_count": 40,
   "metadata": {},
   "outputs": [
    {
     "name": "stdout",
     "output_type": "stream",
     "text": [
      "4\n",
      "2\n",
      "10\n"
     ]
    }
   ],
   "source": [
    "#Tests\n",
    "println(binomial_rv(10, 0.5))\n",
    "println(binomial_rv(10, 0.2))\n",
    "println(binomial_rv(10, 1))"
   ]
  },
  {
   "cell_type": "markdown",
   "metadata": {
    "slideshow": {
     "slide_type": "subslide"
    }
   },
   "source": [
    "### Exercise 3\n",
    "\n",
    "Compute an approximation to $ \\pi $ using Monte Carlo\n",
    "\n",
    "For random number generation use only `rand()`\n",
    "\n",
    "Your hints are as follows:\n",
    "\n",
    "- If $ U $ is a bivariate uniform random variable on the unit square $ (0, 1)^2 $, then the probability that $ U $ lies in a subset $ B $ of $ (0,1)^2 $ is equal to the area of $ B $  \n",
    "- If $ U_1,\\ldots,U_n $ are iid copies of $ U $, then, as $ n $ gets larger, the fraction that falls in $ B $ converges to the probability of landing in $ B $  \n",
    "- For a circle, area = π * $ radius^2 $  \n",
    "\n",
    "\n",
    "\n",
    "<a id='jbe-ex4'></a>"
   ]
  },
  {
   "cell_type": "code",
   "execution_count": 143,
   "metadata": {},
   "outputs": [
    {
     "data": {
      "text/plain": [
       "approx (generic function with 1 method)"
      ]
     },
     "execution_count": 143,
     "metadata": {},
     "output_type": "execute_result"
    }
   ],
   "source": [
    "function approx(n)\n",
    "    x = rand(n, 2) .^2\n",
    "    x = x[:,1] + x[:,2]\n",
    "    return 4 * count(x->x<1, x) / n\n",
    "end"
   ]
  },
  {
   "cell_type": "code",
   "execution_count": null,
   "metadata": {},
   "outputs": [],
   "source": []
  },
  {
   "cell_type": "code",
   "execution_count": 144,
   "metadata": {},
   "outputs": [
    {
     "name": "stdout",
     "output_type": "stream",
     "text": [
      "0.0\n",
      "2.8\n",
      "3.24\n",
      "3.096\n",
      "3.1628\n",
      "3.14116\n",
      "3.140656\n"
     ]
    }
   ],
   "source": [
    "#Test\n",
    "println(approx(1))\n",
    "println(approx(10))\n",
    "println(approx(100))\n",
    "println(approx(1000))\n",
    "println(approx(10000))\n",
    "println(approx(100000))\n",
    "println(approx(1000000))"
   ]
  },
  {
   "cell_type": "markdown",
   "metadata": {
    "slideshow": {
     "slide_type": "subslide"
    }
   },
   "source": [
    "### Exercise 4\n",
    "\n",
    "Write a program that prints one realization of the following random device:\n",
    "\n",
    "- Flip an unbiased coin 10 times  \n",
    "- If 3 consecutive heads occur one or more times within this sequence, pay one dollar  \n",
    "- If not, pay nothing  \n",
    "\n",
    "\n",
    "Once again use only `rand()` as your random number generator\n",
    "\n",
    "\n",
    "<a id='jbe-ex5'></a>"
   ]
  },
  {
   "cell_type": "code",
   "execution_count": 29,
   "metadata": {},
   "outputs": [
    {
     "name": "stdout",
     "output_type": "stream",
     "text": [
      "[0.852254, 0.318355, 0.716456, 0.487638, 0.0706876, 0.844939, 0.482736, 0.580162, 0.0367566, 0.648697]\n",
      "[1, 3, 6, 8, 10]\n",
      "You get nothing\n"
     ]
    }
   ],
   "source": [
    "function game(ran)\n",
    "    x = [if i > 0.5 1 else 0 end for i in ran]\n",
    "    x = x[1: 8] + x[2:9] + x[3:10]\n",
    "    if 3 in x\n",
    "        println(\"You get one dollar\")\n",
    "    else\n",
    "        println(\"You get nothing\")\n",
    "    end\n",
    "end\n",
    "\n",
    "#I keep the randomization out of the function in order to test\n",
    "ran = rand(10)\n",
    "println(ran)\n",
    "println(findall(x->x>0.5, ran))\n",
    "game(ran)"
   ]
  },
  {
   "cell_type": "markdown",
   "metadata": {
    "slideshow": {
     "slide_type": "subslide"
    }
   },
   "source": [
    "### Exercise 5\n",
    "\n",
    "Simulate and plot the correlated time series\n",
    "\n",
    "$$\n",
    "x_{t+1} = \\alpha \\, x_t + \\epsilon_{t+1}\n",
    "\\quad \\text{where} \\quad\n",
    "x_0 = 0\n",
    "\\quad \\text{and} \\quad t = 0,\\ldots,n\n",
    "$$\n",
    "\n",
    "The sequence of shocks $ \\{\\epsilon_t\\} $ is assumed to be iid and standard normal\n",
    "\n",
    "Set $ n = 200 $ and $ \\alpha = 0.9 $\n",
    "\n",
    "\n",
    "<a id='jbe-ex6'></a>"
   ]
  },
  {
   "cell_type": "code",
   "execution_count": 59,
   "metadata": {},
   "outputs": [
    {
     "data": {
      "image/svg+xml": [
       "<?xml version=\"1.0\" encoding=\"utf-8\"?>\n",
       "<svg xmlns=\"http://www.w3.org/2000/svg\" xmlns:xlink=\"http://www.w3.org/1999/xlink\" width=\"600\" height=\"400\" viewBox=\"0 0 2400 1600\">\n",
       "<defs>\n",
       "  <clipPath id=\"clip2600\">\n",
       "    <rect x=\"0\" y=\"0\" width=\"2000\" height=\"2000\"/>\n",
       "  </clipPath>\n",
       "</defs>\n",
       "<defs>\n",
       "  <clipPath id=\"clip2601\">\n",
       "    <rect x=\"0\" y=\"0\" width=\"2400\" height=\"1600\"/>\n",
       "  </clipPath>\n",
       "</defs>\n",
       "<polygon clip-path=\"url(#clip2601)\" points=\"\n",
       "0,1600 2400,1600 2400,0 0,0 \n",
       "  \" fill=\"#ffffff\" fill-rule=\"evenodd\" fill-opacity=\"1\"/>\n",
       "<defs>\n",
       "  <clipPath id=\"clip2602\">\n",
       "    <rect x=\"480\" y=\"0\" width=\"1681\" height=\"1600\"/>\n",
       "  </clipPath>\n",
       "</defs>\n",
       "<polygon clip-path=\"url(#clip2601)\" points=\"\n",
       "189.504,1503.47 2321.26,1503.47 2321.26,47.2441 189.504,47.2441 \n",
       "  \" fill=\"#ffffff\" fill-rule=\"evenodd\" fill-opacity=\"1\"/>\n",
       "<defs>\n",
       "  <clipPath id=\"clip2603\">\n",
       "    <rect x=\"189\" y=\"47\" width=\"2133\" height=\"1457\"/>\n",
       "  </clipPath>\n",
       "</defs>\n",
       "<polyline clip-path=\"url(#clip2603)\" style=\"stroke:#000000; stroke-width:2; stroke-opacity:0.1; fill:none\" points=\"\n",
       "  239.731,1503.47 239.731,47.2441 \n",
       "  \"/>\n",
       "<polyline clip-path=\"url(#clip2603)\" style=\"stroke:#000000; stroke-width:2; stroke-opacity:0.1; fill:none\" points=\"\n",
       "  745.03,1503.47 745.03,47.2441 \n",
       "  \"/>\n",
       "<polyline clip-path=\"url(#clip2603)\" style=\"stroke:#000000; stroke-width:2; stroke-opacity:0.1; fill:none\" points=\"\n",
       "  1250.33,1503.47 1250.33,47.2441 \n",
       "  \"/>\n",
       "<polyline clip-path=\"url(#clip2603)\" style=\"stroke:#000000; stroke-width:2; stroke-opacity:0.1; fill:none\" points=\"\n",
       "  1755.63,1503.47 1755.63,47.2441 \n",
       "  \"/>\n",
       "<polyline clip-path=\"url(#clip2603)\" style=\"stroke:#000000; stroke-width:2; stroke-opacity:0.1; fill:none\" points=\"\n",
       "  2260.93,1503.47 2260.93,47.2441 \n",
       "  \"/>\n",
       "<polyline clip-path=\"url(#clip2603)\" style=\"stroke:#000000; stroke-width:2; stroke-opacity:0.1; fill:none\" points=\"\n",
       "  189.504,1448.09 2321.26,1448.09 \n",
       "  \"/>\n",
       "<polyline clip-path=\"url(#clip2603)\" style=\"stroke:#000000; stroke-width:2; stroke-opacity:0.1; fill:none\" points=\"\n",
       "  189.504,1157.32 2321.26,1157.32 \n",
       "  \"/>\n",
       "<polyline clip-path=\"url(#clip2603)\" style=\"stroke:#000000; stroke-width:2; stroke-opacity:0.1; fill:none\" points=\"\n",
       "  189.504,866.542 2321.26,866.542 \n",
       "  \"/>\n",
       "<polyline clip-path=\"url(#clip2603)\" style=\"stroke:#000000; stroke-width:2; stroke-opacity:0.1; fill:none\" points=\"\n",
       "  189.504,575.768 2321.26,575.768 \n",
       "  \"/>\n",
       "<polyline clip-path=\"url(#clip2603)\" style=\"stroke:#000000; stroke-width:2; stroke-opacity:0.1; fill:none\" points=\"\n",
       "  189.504,284.993 2321.26,284.993 \n",
       "  \"/>\n",
       "<polyline clip-path=\"url(#clip2601)\" style=\"stroke:#000000; stroke-width:4; stroke-opacity:1; fill:none\" points=\"\n",
       "  189.504,1503.47 2321.26,1503.47 \n",
       "  \"/>\n",
       "<polyline clip-path=\"url(#clip2601)\" style=\"stroke:#000000; stroke-width:4; stroke-opacity:1; fill:none\" points=\"\n",
       "  189.504,1503.47 189.504,47.2441 \n",
       "  \"/>\n",
       "<polyline clip-path=\"url(#clip2601)\" style=\"stroke:#000000; stroke-width:4; stroke-opacity:1; fill:none\" points=\"\n",
       "  239.731,1503.47 239.731,1481.63 \n",
       "  \"/>\n",
       "<polyline clip-path=\"url(#clip2601)\" style=\"stroke:#000000; stroke-width:4; stroke-opacity:1; fill:none\" points=\"\n",
       "  745.03,1503.47 745.03,1481.63 \n",
       "  \"/>\n",
       "<polyline clip-path=\"url(#clip2601)\" style=\"stroke:#000000; stroke-width:4; stroke-opacity:1; fill:none\" points=\"\n",
       "  1250.33,1503.47 1250.33,1481.63 \n",
       "  \"/>\n",
       "<polyline clip-path=\"url(#clip2601)\" style=\"stroke:#000000; stroke-width:4; stroke-opacity:1; fill:none\" points=\"\n",
       "  1755.63,1503.47 1755.63,1481.63 \n",
       "  \"/>\n",
       "<polyline clip-path=\"url(#clip2601)\" style=\"stroke:#000000; stroke-width:4; stroke-opacity:1; fill:none\" points=\"\n",
       "  2260.93,1503.47 2260.93,1481.63 \n",
       "  \"/>\n",
       "<polyline clip-path=\"url(#clip2601)\" style=\"stroke:#000000; stroke-width:4; stroke-opacity:1; fill:none\" points=\"\n",
       "  189.504,1448.09 221.48,1448.09 \n",
       "  \"/>\n",
       "<polyline clip-path=\"url(#clip2601)\" style=\"stroke:#000000; stroke-width:4; stroke-opacity:1; fill:none\" points=\"\n",
       "  189.504,1157.32 221.48,1157.32 \n",
       "  \"/>\n",
       "<polyline clip-path=\"url(#clip2601)\" style=\"stroke:#000000; stroke-width:4; stroke-opacity:1; fill:none\" points=\"\n",
       "  189.504,866.542 221.48,866.542 \n",
       "  \"/>\n",
       "<polyline clip-path=\"url(#clip2601)\" style=\"stroke:#000000; stroke-width:4; stroke-opacity:1; fill:none\" points=\"\n",
       "  189.504,575.768 221.48,575.768 \n",
       "  \"/>\n",
       "<polyline clip-path=\"url(#clip2601)\" style=\"stroke:#000000; stroke-width:4; stroke-opacity:1; fill:none\" points=\"\n",
       "  189.504,284.993 221.48,284.993 \n",
       "  \"/>\n",
       "<g clip-path=\"url(#clip2601)\">\n",
       "<text style=\"fill:#000000; fill-opacity:1; font-family:Arial,Helvetica Neue,Helvetica,sans-serif; font-size:48px; text-anchor:middle;\" transform=\"rotate(0, 239.731, 1557.47)\" x=\"239.731\" y=\"1557.47\">0</text>\n",
       "</g>\n",
       "<g clip-path=\"url(#clip2601)\">\n",
       "<text style=\"fill:#000000; fill-opacity:1; font-family:Arial,Helvetica Neue,Helvetica,sans-serif; font-size:48px; text-anchor:middle;\" transform=\"rotate(0, 745.03, 1557.47)\" x=\"745.03\" y=\"1557.47\">50</text>\n",
       "</g>\n",
       "<g clip-path=\"url(#clip2601)\">\n",
       "<text style=\"fill:#000000; fill-opacity:1; font-family:Arial,Helvetica Neue,Helvetica,sans-serif; font-size:48px; text-anchor:middle;\" transform=\"rotate(0, 1250.33, 1557.47)\" x=\"1250.33\" y=\"1557.47\">100</text>\n",
       "</g>\n",
       "<g clip-path=\"url(#clip2601)\">\n",
       "<text style=\"fill:#000000; fill-opacity:1; font-family:Arial,Helvetica Neue,Helvetica,sans-serif; font-size:48px; text-anchor:middle;\" transform=\"rotate(0, 1755.63, 1557.47)\" x=\"1755.63\" y=\"1557.47\">150</text>\n",
       "</g>\n",
       "<g clip-path=\"url(#clip2601)\">\n",
       "<text style=\"fill:#000000; fill-opacity:1; font-family:Arial,Helvetica Neue,Helvetica,sans-serif; font-size:48px; text-anchor:middle;\" transform=\"rotate(0, 2260.93, 1557.47)\" x=\"2260.93\" y=\"1557.47\">200</text>\n",
       "</g>\n",
       "<g clip-path=\"url(#clip2601)\">\n",
       "<text style=\"fill:#000000; fill-opacity:1; font-family:Arial,Helvetica Neue,Helvetica,sans-serif; font-size:48px; text-anchor:end;\" transform=\"rotate(0, 165.504, 1465.59)\" x=\"165.504\" y=\"1465.59\">-5.0</text>\n",
       "</g>\n",
       "<g clip-path=\"url(#clip2601)\">\n",
       "<text style=\"fill:#000000; fill-opacity:1; font-family:Arial,Helvetica Neue,Helvetica,sans-serif; font-size:48px; text-anchor:end;\" transform=\"rotate(0, 165.504, 1174.82)\" x=\"165.504\" y=\"1174.82\">-2.5</text>\n",
       "</g>\n",
       "<g clip-path=\"url(#clip2601)\">\n",
       "<text style=\"fill:#000000; fill-opacity:1; font-family:Arial,Helvetica Neue,Helvetica,sans-serif; font-size:48px; text-anchor:end;\" transform=\"rotate(0, 165.504, 884.042)\" x=\"165.504\" y=\"884.042\">0.0</text>\n",
       "</g>\n",
       "<g clip-path=\"url(#clip2601)\">\n",
       "<text style=\"fill:#000000; fill-opacity:1; font-family:Arial,Helvetica Neue,Helvetica,sans-serif; font-size:48px; text-anchor:end;\" transform=\"rotate(0, 165.504, 593.268)\" x=\"165.504\" y=\"593.268\">2.5</text>\n",
       "</g>\n",
       "<g clip-path=\"url(#clip2601)\">\n",
       "<text style=\"fill:#000000; fill-opacity:1; font-family:Arial,Helvetica Neue,Helvetica,sans-serif; font-size:48px; text-anchor:end;\" transform=\"rotate(0, 165.504, 302.493)\" x=\"165.504\" y=\"302.493\">5.0</text>\n",
       "</g>\n",
       "<polyline clip-path=\"url(#clip2603)\" style=\"stroke:#009af9; stroke-width:4; stroke-opacity:1; fill:none\" points=\"\n",
       "  249.837,866.542 259.943,906.928 270.049,806.888 280.155,836.956 290.261,844.034 300.367,788.015 310.473,768.722 320.579,713.699 330.685,741.135 340.791,354.951 \n",
       "  350.897,388.213 361.003,486.955 371.109,585.478 381.215,772.435 391.321,884.28 401.427,1015.04 411.533,1083.53 421.639,880.148 431.744,829.227 441.85,982.364 \n",
       "  451.956,879.869 462.062,698.711 472.168,775.332 482.274,930.984 492.38,816.911 502.486,744.851 512.592,726.78 522.698,954.62 532.804,911.041 542.91,1003.29 \n",
       "  553.016,870.37 563.122,755.859 573.228,799.255 583.334,744.574 593.44,904.155 603.546,950.42 613.652,1024.1 623.758,875.102 633.864,904.823 643.97,959.342 \n",
       "  654.076,924.586 664.182,839.05 674.288,919.413 684.394,1048.97 694.5,1030.62 704.606,1199.36 714.712,1219.28 724.818,1287.28 734.924,1283.96 745.03,1202.27 \n",
       "  755.136,1073.92 765.242,1206.26 775.348,1200.22 785.454,1330.08 795.56,1273.57 805.666,1224.01 815.772,1222.14 825.878,1204.15 835.984,1054.74 846.09,901.649 \n",
       "  856.196,699.612 866.302,734.239 876.408,795.298 886.514,990.55 896.62,1232.98 906.726,1402.66 916.832,1462.26 926.938,1442.06 937.044,1255.22 947.15,1386.12 \n",
       "  957.256,1418.93 967.362,1366.44 977.467,1428.16 987.573,1307.1 997.679,1004.28 1007.79,926.727 1017.89,932.483 1028,997.87 1038.1,1016.54 1048.21,1054.47 \n",
       "  1058.32,1052.35 1068.42,942.886 1078.53,961.534 1088.63,1166.72 1098.74,1101.23 1108.85,1206.29 1118.95,1084.93 1129.06,1065.28 1139.16,1167.55 1149.27,1130.43 \n",
       "  1159.38,915.218 1169.48,776.256 1179.59,773.261 1189.69,572.163 1199.8,696.343 1209.91,854.619 1220.01,1022.06 1230.12,847.813 1240.22,994.078 1250.33,1008.09 \n",
       "  1260.43,1157.05 1270.54,1020.44 1280.65,748.043 1290.75,597.033 1300.86,455.312 1310.96,583.867 1321.07,782.313 1331.18,615.787 1341.28,506.508 1351.39,404.93 \n",
       "  1361.49,390.97 1371.6,439.755 1381.71,400.158 1391.81,627.384 1401.92,333.373 1412.02,253.845 1422.13,390.095 1432.24,315.18 1442.34,199.617 1452.45,376.242 \n",
       "  1462.55,88.4582 1472.66,359.843 1482.77,405.383 1492.87,355.959 1502.98,471.99 1513.08,467.517 1523.19,267.755 1533.3,229.34 1543.4,285.179 1553.51,274.147 \n",
       "  1563.61,362.408 1573.72,383.035 1583.83,584.356 1593.93,552.46 1604.04,530.181 1614.14,583.733 1624.25,672.28 1634.36,563.111 1644.46,707.038 1654.57,582.13 \n",
       "  1664.67,509.975 1674.78,630.254 1684.89,807.296 1694.99,750.164 1705.1,764.813 1715.2,813.948 1725.31,941.687 1735.42,975.728 1745.52,933.618 1755.63,938.45 \n",
       "  1765.73,858.437 1775.84,804.901 1785.95,859.507 1796.05,876.502 1806.16,1003.5 1816.26,953.76 1826.37,952.966 1836.48,998.72 1846.58,817.584 1856.69,942.127 \n",
       "  1866.79,890.246 1876.9,1002.31 1887.01,1011.39 1897.11,918.543 1907.22,877.502 1917.32,1028.13 1927.43,1027.3 1937.54,1008.01 1947.64,1071.92 1957.75,1297.89 \n",
       "  1967.85,1388.17 1977.96,1111.73 1988.07,1273.55 1998.17,1211.86 2008.28,1152.16 2018.38,1072.18 2028.49,1179.34 2038.6,1176.03 2048.7,1122.64 2058.81,1274.48 \n",
       "  2068.91,1030.59 2079.02,887.682 2089.13,817.51 2099.23,915.125 2109.34,943.144 2119.44,798.807 2129.55,672.693 2139.66,736.725 2149.76,716.559 2159.87,736.949 \n",
       "  2169.97,682.203 2180.08,704.963 2190.19,709.685 2200.29,717.852 2210.4,689.939 2220.5,447.228 2230.61,587.659 2240.72,433.713 2250.82,595.287 2260.93,546.033 \n",
       "  \n",
       "  \"/>\n",
       "<polygon clip-path=\"url(#clip2601)\" points=\"\n",
       "1958.43,251.724 2249.26,251.724 2249.26,130.764 1958.43,130.764 \n",
       "  \" fill=\"#ffffff\" fill-rule=\"evenodd\" fill-opacity=\"1\"/>\n",
       "<polyline clip-path=\"url(#clip2601)\" style=\"stroke:#000000; stroke-width:4; stroke-opacity:1; fill:none\" points=\"\n",
       "  1958.43,251.724 2249.26,251.724 2249.26,130.764 1958.43,130.764 1958.43,251.724 \n",
       "  \"/>\n",
       "<polyline clip-path=\"url(#clip2601)\" style=\"stroke:#009af9; stroke-width:4; stroke-opacity:1; fill:none\" points=\"\n",
       "  1982.43,191.244 2126.43,191.244 \n",
       "  \"/>\n",
       "<g clip-path=\"url(#clip2601)\">\n",
       "<text style=\"fill:#000000; fill-opacity:1; font-family:Arial,Helvetica Neue,Helvetica,sans-serif; font-size:48px; text-anchor:start;\" transform=\"rotate(0, 2150.43, 208.744)\" x=\"2150.43\" y=\"208.744\">y1</text>\n",
       "</g>\n",
       "</svg>\n"
      ]
     },
     "execution_count": 59,
     "metadata": {},
     "output_type": "execute_result"
    }
   ],
   "source": [
    "using Plots\n",
    "function time(n, a)\n",
    "    e = randn(n)\n",
    "    x = zeros(n)\n",
    "    for i in 1:n - 1\n",
    "        x[i + 1] = a * x[i] + e[i]\n",
    "    end\n",
    "    return x\n",
    "end\n",
    "\n",
    "n = 200\n",
    "a = 0.9\n",
    "plot(1:n, time(n, a))"
   ]
  },
  {
   "cell_type": "markdown",
   "metadata": {
    "slideshow": {
     "slide_type": "subslide"
    }
   },
   "source": [
    "### Exercise 6\n",
    "\n",
    "Plot three simulated time series, one for each of the cases $ \\alpha = 0 $, $ \\alpha = 0.8 $ and $ \\alpha = 0.98 $\n",
    "\n",
    "(The figure will illustrate how time series with the same one-step-ahead conditional volatilities, as these three processes have, can have very different unconditional volatilities)\n",
    "\n",
    "\n",
    "<a id='jbe-ex7'></a>"
   ]
  },
  {
   "cell_type": "code",
   "execution_count": 67,
   "metadata": {},
   "outputs": [
    {
     "data": {
      "image/svg+xml": [
       "<?xml version=\"1.0\" encoding=\"utf-8\"?>\n",
       "<svg xmlns=\"http://www.w3.org/2000/svg\" xmlns:xlink=\"http://www.w3.org/1999/xlink\" width=\"600\" height=\"400\" viewBox=\"0 0 2400 1600\">\n",
       "<defs>\n",
       "  <clipPath id=\"clip3600\">\n",
       "    <rect x=\"0\" y=\"0\" width=\"2000\" height=\"2000\"/>\n",
       "  </clipPath>\n",
       "</defs>\n",
       "<defs>\n",
       "  <clipPath id=\"clip3601\">\n",
       "    <rect x=\"0\" y=\"0\" width=\"2400\" height=\"1600\"/>\n",
       "  </clipPath>\n",
       "</defs>\n",
       "<polygon clip-path=\"url(#clip3601)\" points=\"\n",
       "0,1600 2400,1600 2400,0 0,0 \n",
       "  \" fill=\"#ffffff\" fill-rule=\"evenodd\" fill-opacity=\"1\"/>\n",
       "<defs>\n",
       "  <clipPath id=\"clip3602\">\n",
       "    <rect x=\"480\" y=\"0\" width=\"1681\" height=\"1600\"/>\n",
       "  </clipPath>\n",
       "</defs>\n",
       "<polygon clip-path=\"url(#clip3601)\" points=\"\n",
       "176.123,1503.47 2321.26,1503.47 2321.26,47.2441 176.123,47.2441 \n",
       "  \" fill=\"#ffffff\" fill-rule=\"evenodd\" fill-opacity=\"1\"/>\n",
       "<defs>\n",
       "  <clipPath id=\"clip3603\">\n",
       "    <rect x=\"176\" y=\"47\" width=\"2146\" height=\"1457\"/>\n",
       "  </clipPath>\n",
       "</defs>\n",
       "<polyline clip-path=\"url(#clip3603)\" style=\"stroke:#000000; stroke-width:2; stroke-opacity:0.1; fill:none\" points=\"\n",
       "  226.665,1503.47 226.665,47.2441 \n",
       "  \"/>\n",
       "<polyline clip-path=\"url(#clip3603)\" style=\"stroke:#000000; stroke-width:2; stroke-opacity:0.1; fill:none\" points=\"\n",
       "  735.136,1503.47 735.136,47.2441 \n",
       "  \"/>\n",
       "<polyline clip-path=\"url(#clip3603)\" style=\"stroke:#000000; stroke-width:2; stroke-opacity:0.1; fill:none\" points=\"\n",
       "  1243.61,1503.47 1243.61,47.2441 \n",
       "  \"/>\n",
       "<polyline clip-path=\"url(#clip3603)\" style=\"stroke:#000000; stroke-width:2; stroke-opacity:0.1; fill:none\" points=\"\n",
       "  1752.08,1503.47 1752.08,47.2441 \n",
       "  \"/>\n",
       "<polyline clip-path=\"url(#clip3603)\" style=\"stroke:#000000; stroke-width:2; stroke-opacity:0.1; fill:none\" points=\"\n",
       "  2260.55,1503.47 2260.55,47.2441 \n",
       "  \"/>\n",
       "<polyline clip-path=\"url(#clip3603)\" style=\"stroke:#000000; stroke-width:2; stroke-opacity:0.1; fill:none\" points=\"\n",
       "  176.123,1324.82 2321.26,1324.82 \n",
       "  \"/>\n",
       "<polyline clip-path=\"url(#clip3603)\" style=\"stroke:#000000; stroke-width:2; stroke-opacity:0.1; fill:none\" points=\"\n",
       "  176.123,930.556 2321.26,930.556 \n",
       "  \"/>\n",
       "<polyline clip-path=\"url(#clip3603)\" style=\"stroke:#000000; stroke-width:2; stroke-opacity:0.1; fill:none\" points=\"\n",
       "  176.123,536.293 2321.26,536.293 \n",
       "  \"/>\n",
       "<polyline clip-path=\"url(#clip3603)\" style=\"stroke:#000000; stroke-width:2; stroke-opacity:0.1; fill:none\" points=\"\n",
       "  176.123,142.03 2321.26,142.03 \n",
       "  \"/>\n",
       "<polyline clip-path=\"url(#clip3601)\" style=\"stroke:#000000; stroke-width:4; stroke-opacity:1; fill:none\" points=\"\n",
       "  176.123,1503.47 2321.26,1503.47 \n",
       "  \"/>\n",
       "<polyline clip-path=\"url(#clip3601)\" style=\"stroke:#000000; stroke-width:4; stroke-opacity:1; fill:none\" points=\"\n",
       "  176.123,1503.47 176.123,47.2441 \n",
       "  \"/>\n",
       "<polyline clip-path=\"url(#clip3601)\" style=\"stroke:#000000; stroke-width:4; stroke-opacity:1; fill:none\" points=\"\n",
       "  226.665,1503.47 226.665,1481.63 \n",
       "  \"/>\n",
       "<polyline clip-path=\"url(#clip3601)\" style=\"stroke:#000000; stroke-width:4; stroke-opacity:1; fill:none\" points=\"\n",
       "  735.136,1503.47 735.136,1481.63 \n",
       "  \"/>\n",
       "<polyline clip-path=\"url(#clip3601)\" style=\"stroke:#000000; stroke-width:4; stroke-opacity:1; fill:none\" points=\"\n",
       "  1243.61,1503.47 1243.61,1481.63 \n",
       "  \"/>\n",
       "<polyline clip-path=\"url(#clip3601)\" style=\"stroke:#000000; stroke-width:4; stroke-opacity:1; fill:none\" points=\"\n",
       "  1752.08,1503.47 1752.08,1481.63 \n",
       "  \"/>\n",
       "<polyline clip-path=\"url(#clip3601)\" style=\"stroke:#000000; stroke-width:4; stroke-opacity:1; fill:none\" points=\"\n",
       "  2260.55,1503.47 2260.55,1481.63 \n",
       "  \"/>\n",
       "<polyline clip-path=\"url(#clip3601)\" style=\"stroke:#000000; stroke-width:4; stroke-opacity:1; fill:none\" points=\"\n",
       "  176.123,1324.82 208.3,1324.82 \n",
       "  \"/>\n",
       "<polyline clip-path=\"url(#clip3601)\" style=\"stroke:#000000; stroke-width:4; stroke-opacity:1; fill:none\" points=\"\n",
       "  176.123,930.556 208.3,930.556 \n",
       "  \"/>\n",
       "<polyline clip-path=\"url(#clip3601)\" style=\"stroke:#000000; stroke-width:4; stroke-opacity:1; fill:none\" points=\"\n",
       "  176.123,536.293 208.3,536.293 \n",
       "  \"/>\n",
       "<polyline clip-path=\"url(#clip3601)\" style=\"stroke:#000000; stroke-width:4; stroke-opacity:1; fill:none\" points=\"\n",
       "  176.123,142.03 208.3,142.03 \n",
       "  \"/>\n",
       "<g clip-path=\"url(#clip3601)\">\n",
       "<text style=\"fill:#000000; fill-opacity:1; font-family:Arial,Helvetica Neue,Helvetica,sans-serif; font-size:48px; text-anchor:middle;\" transform=\"rotate(0, 226.665, 1557.47)\" x=\"226.665\" y=\"1557.47\">0</text>\n",
       "</g>\n",
       "<g clip-path=\"url(#clip3601)\">\n",
       "<text style=\"fill:#000000; fill-opacity:1; font-family:Arial,Helvetica Neue,Helvetica,sans-serif; font-size:48px; text-anchor:middle;\" transform=\"rotate(0, 735.136, 1557.47)\" x=\"735.136\" y=\"1557.47\">50</text>\n",
       "</g>\n",
       "<g clip-path=\"url(#clip3601)\">\n",
       "<text style=\"fill:#000000; fill-opacity:1; font-family:Arial,Helvetica Neue,Helvetica,sans-serif; font-size:48px; text-anchor:middle;\" transform=\"rotate(0, 1243.61, 1557.47)\" x=\"1243.61\" y=\"1557.47\">100</text>\n",
       "</g>\n",
       "<g clip-path=\"url(#clip3601)\">\n",
       "<text style=\"fill:#000000; fill-opacity:1; font-family:Arial,Helvetica Neue,Helvetica,sans-serif; font-size:48px; text-anchor:middle;\" transform=\"rotate(0, 1752.08, 1557.47)\" x=\"1752.08\" y=\"1557.47\">150</text>\n",
       "</g>\n",
       "<g clip-path=\"url(#clip3601)\">\n",
       "<text style=\"fill:#000000; fill-opacity:1; font-family:Arial,Helvetica Neue,Helvetica,sans-serif; font-size:48px; text-anchor:middle;\" transform=\"rotate(0, 2260.55, 1557.47)\" x=\"2260.55\" y=\"1557.47\">200</text>\n",
       "</g>\n",
       "<g clip-path=\"url(#clip3601)\">\n",
       "<text style=\"fill:#000000; fill-opacity:1; font-family:Arial,Helvetica Neue,Helvetica,sans-serif; font-size:48px; text-anchor:end;\" transform=\"rotate(0, 152.123, 1342.32)\" x=\"152.123\" y=\"1342.32\">-10</text>\n",
       "</g>\n",
       "<g clip-path=\"url(#clip3601)\">\n",
       "<text style=\"fill:#000000; fill-opacity:1; font-family:Arial,Helvetica Neue,Helvetica,sans-serif; font-size:48px; text-anchor:end;\" transform=\"rotate(0, 152.123, 948.056)\" x=\"152.123\" y=\"948.056\">-5</text>\n",
       "</g>\n",
       "<g clip-path=\"url(#clip3601)\">\n",
       "<text style=\"fill:#000000; fill-opacity:1; font-family:Arial,Helvetica Neue,Helvetica,sans-serif; font-size:48px; text-anchor:end;\" transform=\"rotate(0, 152.123, 553.793)\" x=\"152.123\" y=\"553.793\">0</text>\n",
       "</g>\n",
       "<g clip-path=\"url(#clip3601)\">\n",
       "<text style=\"fill:#000000; fill-opacity:1; font-family:Arial,Helvetica Neue,Helvetica,sans-serif; font-size:48px; text-anchor:end;\" transform=\"rotate(0, 152.123, 159.53)\" x=\"152.123\" y=\"159.53\">5</text>\n",
       "</g>\n",
       "<polyline clip-path=\"url(#clip3603)\" style=\"stroke:#009af9; stroke-width:4; stroke-opacity:1; fill:none\" points=\"\n",
       "  236.834,536.293 247.004,491.835 257.173,547.734 267.343,470.176 277.512,444.855 287.681,463.739 297.851,530.538 308.02,495.316 318.19,466.746 328.359,547.046 \n",
       "  338.529,610.867 348.698,630.167 358.867,632.25 369.037,513.853 379.206,641.343 389.376,460.142 399.545,539.126 409.714,525.354 419.884,559.57 430.053,604.051 \n",
       "  440.223,732.139 450.392,622.57 460.562,759.785 470.731,501.153 480.9,511.445 491.07,372.149 501.239,372.25 511.409,487.979 521.578,377.145 531.747,405.603 \n",
       "  541.917,564.113 552.086,706.454 562.256,527.208 572.425,630.071 582.595,601.892 592.764,497.231 602.933,444.149 613.103,452.704 623.272,631.519 633.442,549.881 \n",
       "  643.611,525.99 653.78,454.478 663.95,551.986 674.119,615.072 684.289,532.439 694.458,611.834 704.628,613.314 714.797,725.02 724.966,396.128 735.136,536.43 \n",
       "  745.305,531.727 755.475,579.994 765.644,603.656 775.813,661.281 785.983,513.355 796.152,451.036 806.322,389.166 816.491,422.483 826.661,649.506 836.83,487.123 \n",
       "  846.999,526.997 857.169,584.116 867.338,548.109 877.508,511.091 887.677,404.685 897.846,596.797 908.016,601.184 918.185,488.891 928.355,496.085 938.524,439.353 \n",
       "  948.694,499.339 958.863,531.091 969.032,328.438 979.202,612.567 989.371,612.948 999.541,530.523 1009.71,507.858 1019.88,501.153 1030.05,555.915 1040.22,603.306 \n",
       "  1050.39,539.308 1060.56,582.188 1070.73,633.763 1080.9,439.125 1091.07,520.741 1101.23,576.83 1111.4,364.728 1121.57,455.172 1131.74,610.601 1141.91,331.24 \n",
       "  1152.08,566.369 1162.25,478.358 1172.42,497.859 1182.59,591.035 1192.76,412.708 1202.93,480.005 1213.1,444.106 1223.27,589.004 1233.44,494.598 1243.61,476.999 \n",
       "  1253.78,563.886 1263.95,497.887 1274.11,388.214 1284.28,536.267 1294.45,538.965 1304.62,547.879 1314.79,498.181 1324.96,673.718 1335.13,500.689 1345.3,665.271 \n",
       "  1355.47,626.357 1365.64,477.204 1375.81,429.97 1385.98,463.295 1396.15,480.483 1406.32,527.638 1416.49,386.211 1426.66,532.117 1436.83,510.248 1447,338.031 \n",
       "  1457.16,495.874 1467.33,566.504 1477.5,509.573 1487.67,456.17 1497.84,521.693 1508.01,503.588 1518.18,558.55 1528.35,592.347 1538.52,433.803 1548.69,614.716 \n",
       "  1558.86,561.932 1569.03,476.074 1579.2,394.475 1589.37,463.997 1599.54,306.456 1609.71,463.125 1619.88,690.375 1630.04,654.088 1640.21,575.704 1650.38,583.225 \n",
       "  1660.55,550.371 1670.72,643.112 1680.89,621.722 1691.06,518.117 1701.23,637.086 1711.4,452.82 1721.57,506.883 1731.74,350.616 1741.91,731.273 1752.08,676.708 \n",
       "  1762.25,578.285 1772.42,442.515 1782.59,528.789 1792.76,541.399 1802.92,705.966 1813.09,560.218 1823.26,551.353 1833.43,579.29 1843.6,477.487 1853.77,454.882 \n",
       "  1863.94,466.918 1874.11,557.049 1884.28,465.814 1894.45,541.623 1904.62,676.43 1914.79,433.976 1924.96,468.416 1935.13,643.447 1945.3,464.475 1955.47,604.177 \n",
       "  1965.64,586.238 1975.8,485.331 1985.97,493.988 1996.14,630.484 2006.31,484.368 2016.48,582.125 2026.65,523.792 2036.82,565.111 2046.99,521.037 2057.16,591.572 \n",
       "  2067.33,602.661 2077.5,471.571 2087.67,460.066 2097.84,646.412 2108.01,447.257 2118.18,579.517 2128.35,653.929 2138.52,470.214 2148.68,375.201 2158.85,528.116 \n",
       "  2169.02,579.236 2179.19,579.279 2189.36,619.75 2199.53,449.608 2209.7,564.229 2219.87,584.246 2230.04,518.226 2240.21,470.946 2250.38,705.429 2260.55,669.888 \n",
       "  \n",
       "  \"/>\n",
       "<polyline clip-path=\"url(#clip3603)\" style=\"stroke:#e26f46; stroke-width:4; stroke-opacity:1; fill:none\" points=\"\n",
       "  236.834,536.293 247.004,502.316 257.173,470.429 267.343,401.195 277.512,434.101 287.681,462.078 297.851,435.158 308.02,417.777 318.19,386.535 328.359,298.94 \n",
       "  338.529,291.464 348.698,289.769 358.867,379.23 369.037,409.747 379.206,348.714 389.376,317.195 399.545,326.905 409.714,477.256 419.884,560.923 430.053,474.761 \n",
       "  440.223,543.995 450.392,599.735 460.562,580.609 470.731,565.436 480.9,531.382 491.07,499.419 501.239,504.164 511.409,560.05 521.578,620.27 531.747,548.834 \n",
       "  541.917,441.624 552.086,457.566 562.256,430.685 572.425,448.005 582.595,528.398 592.764,588.144 602.933,659.104 613.103,577.542 623.272,464.364 633.442,468.37 \n",
       "  643.611,494.937 653.78,354.184 663.95,384.109 674.119,407.599 684.289,363.644 694.458,379.214 704.628,418.453 714.797,581.177 724.966,619.894 735.136,656.019 \n",
       "  745.305,601.482 755.475,492.408 765.644,584.553 775.813,676.966 785.983,638.488 796.152,620.93 806.322,732.19 816.491,706.051 826.661,800.325 836.83,683.715 \n",
       "  846.999,537.035 857.169,575.727 867.338,528.152 877.508,654.793 887.677,617.961 897.846,582.755 908.016,716.515 918.185,672.815 928.355,662.337 938.524,579.325 \n",
       "  948.694,540.599 958.863,578.27 969.032,607.155 979.202,508.002 989.371,416.454 999.541,297.764 1009.71,434.201 1019.88,321.3 1030.05,367.125 1040.22,420.379 \n",
       "  1050.39,262.015 1060.56,346.433 1070.73,317.965 1080.9,385.329 1091.07,445.634 1101.23,386.774 1111.4,486.593 1121.57,613.99 1131.74,638.897 1141.91,638.75 \n",
       "  1152.08,552.472 1162.25,590.669 1172.42,538.971 1182.59,424.866 1192.76,386.053 1202.93,477.279 1213.1,436.766 1223.27,470.809 1233.44,448.111 1243.61,280.541 \n",
       "  1253.78,311.158 1263.95,385.933 1274.11,404.402 1284.28,601.163 1294.45,710.576 1304.62,761.458 1314.79,686.023 1324.96,712.891 1335.13,788.884 1345.3,760.517 \n",
       "  1355.47,708.327 1365.64,469.843 1375.81,575.966 1385.98,583.608 1396.15,534.018 1406.32,589.225 1416.49,649.765 1426.66,655.891 1436.83,686.769 1447,554.447 \n",
       "  1457.16,524.591 1467.33,608.298 1477.5,657.607 1487.67,618.519 1497.84,656.986 1508.01,717.503 1518.18,717.106 1528.35,580.95 1538.52,374.859 1548.69,374.99 \n",
       "  1558.86,484.716 1569.03,274.218 1579.2,299.5 1589.37,382.68 1599.54,387.531 1609.71,367.574 1619.88,509.889 1630.04,414.989 1640.21,400.045 1650.38,399.91 \n",
       "  1660.55,322.579 1670.72,258.706 1680.89,206.624 1691.06,219.346 1701.23,327.563 1711.4,439.596 1721.57,352.319 1731.74,295.812 1741.91,337.367 1752.08,412.374 \n",
       "  1762.25,420.288 1772.42,602.399 1782.59,613.005 1792.76,580.746 1802.92,729.612 1813.09,770.826 1823.26,714.508 1833.43,720.77 1843.6,836.563 1853.77,817.029 \n",
       "  1863.94,804.113 1874.11,849.275 1884.28,696.235 1894.45,778.127 1904.62,784.388 1914.79,680.025 1924.96,657.03 1935.13,571.774 1945.3,370.957 1955.47,415.07 \n",
       "  1965.64,381.552 1975.8,360.385 1985.97,556.565 1996.14,628.728 2006.31,598.272 2016.48,577.132 2026.65,608.852 2036.82,612.053 2046.99,588.941 2057.16,641.018 \n",
       "  2067.33,668.59 2077.5,616.484 2087.67,501.58 2097.84,570.333 2108.01,491.625 2118.18,536.244 2128.35,438.866 2138.52,571.263 2148.68,583.225 2158.85,490.255 \n",
       "  2169.02,567.008 2179.19,567.338 2189.36,428.764 2199.53,320.626 2209.7,263.124 2219.87,336.228 2230.04,289.873 2240.21,179.484 2250.38,88.4582 2260.55,132.988 \n",
       "  \n",
       "  \"/>\n",
       "<polyline clip-path=\"url(#clip3603)\" style=\"stroke:#3da44d; stroke-width:4; stroke-opacity:1; fill:none\" points=\"\n",
       "  236.834,536.293 247.004,602.05 257.173,576.471 267.343,428.329 277.512,582.561 287.681,671.78 297.851,796.808 308.02,806.178 318.19,778.875 328.359,868.861 \n",
       "  338.529,1001.46 348.698,965.959 358.867,915.865 369.037,1155.23 379.206,1044.14 389.376,1050.07 399.545,957.48 409.714,811.293 419.884,744.028 430.053,791.483 \n",
       "  440.223,836.654 450.392,790.066 460.562,846.399 470.731,754.081 480.9,783.238 491.07,815.798 501.239,766.233 511.409,821.133 521.578,767.534 531.747,864.861 \n",
       "  541.917,720.497 552.086,715.469 562.256,640.447 572.425,690.814 582.595,704.672 592.764,686.324 602.933,709.407 613.103,743.954 623.272,878.55 633.442,940.051 \n",
       "  643.611,1006.67 653.78,951.779 663.95,913.893 674.119,1060.7 684.289,1079.21 694.458,1125.41 704.628,1078.38 714.797,1110.78 724.966,1015.23 735.136,988.634 \n",
       "  745.305,1130.99 755.475,1211.75 765.644,1281.7 775.813,1346.86 785.983,1334.96 796.152,1350.53 806.322,1339.76 816.491,1345.81 826.661,1342.41 836.83,1289.95 \n",
       "  846.999,1245.66 857.169,1348.99 867.338,1337.63 877.508,1252.93 887.677,1356.41 897.846,1424.85 908.016,1380.03 918.185,1302.04 928.355,1337.29 938.524,1398.39 \n",
       "  948.694,1358.68 958.863,1384.43 969.032,1365.57 979.202,1396.61 989.371,1439.56 999.541,1377.71 1009.71,1326.58 1019.88,1402.22 1030.05,1371.62 1040.22,1278.79 \n",
       "  1050.39,1332.14 1060.56,1462.26 1070.73,1449.5 1080.9,1460.71 1091.07,1369.83 1101.23,1372.31 1111.4,1447.1 1121.57,1404.89 1131.74,1421.54 1141.91,1349.71 \n",
       "  1152.08,1243.83 1162.25,1314.7 1172.42,1205.7 1182.59,1064.31 1192.76,1132.45 1202.93,1240.9 1213.1,1111.14 1223.27,1212.81 1233.44,1262.57 1243.61,1298.16 \n",
       "  1253.78,1286.1 1263.95,1372.92 1274.11,1346.98 1284.28,1267.49 1294.45,1158.44 1304.62,1159.27 1314.79,1062.21 1324.96,1014.27 1335.13,967.636 1345.3,978.662 \n",
       "  1355.47,939.88 1365.64,945.439 1375.81,973.951 1385.98,854.298 1396.15,655.832 1406.32,686.937 1416.49,676.757 1426.66,618.007 1436.83,605.586 1447,646.054 \n",
       "  1457.16,626.1 1467.33,589.37 1477.5,574.435 1487.67,678.345 1497.84,632.649 1508.01,635.609 1518.18,604.989 1528.35,505.619 1538.52,535.679 1548.69,548.136 \n",
       "  1558.86,635.55 1569.03,612.617 1579.2,672.32 1589.37,699.15 1599.54,764.531 1609.71,828.808 1619.88,933.754 1630.04,977.336 1640.21,777.127 1650.38,764.669 \n",
       "  1660.55,671.237 1670.72,657.249 1680.89,674.452 1691.06,644.77 1701.23,535.765 1711.4,549.135 1721.57,460.602 1731.74,447.825 1741.91,360.618 1752.08,310.799 \n",
       "  1762.25,415.615 1772.42,456.375 1782.59,421.066 1792.76,299.026 1802.92,376.811 1813.09,516.2 1823.26,375.272 1833.43,336.838 1843.6,318.006 1853.77,158.323 \n",
       "  1863.94,277.943 1874.11,150.85 1884.28,300.042 1894.45,379.943 1904.62,490.736 1914.79,473.622 1924.96,451.982 1935.13,466.239 1945.3,491.102 1955.47,400.697 \n",
       "  1965.64,408.686 1975.8,460.209 1985.97,511.763 1996.14,560.227 2006.31,572.617 2016.48,534.697 2026.65,404.407 2036.82,514.229 2046.99,531.086 2057.16,715.617 \n",
       "  2067.33,854.837 2077.5,815.747 2087.67,870.812 2097.84,942.778 2108.01,1193.08 2118.18,1174.78 2128.35,1154.27 2138.52,1218.37 2148.68,1365.71 2158.85,1150.69 \n",
       "  2169.02,1170.11 2179.19,1110.22 2189.36,1148.99 2199.53,1004.8 2209.7,989.042 2219.87,969.679 2230.04,955.616 2240.21,997.737 2250.38,1027.01 2260.55,967.873 \n",
       "  \n",
       "  \"/>\n",
       "<polygon clip-path=\"url(#clip3601)\" points=\"\n",
       "1958.43,372.684 2249.26,372.684 2249.26,130.764 1958.43,130.764 \n",
       "  \" fill=\"#ffffff\" fill-rule=\"evenodd\" fill-opacity=\"1\"/>\n",
       "<polyline clip-path=\"url(#clip3601)\" style=\"stroke:#000000; stroke-width:4; stroke-opacity:1; fill:none\" points=\"\n",
       "  1958.43,372.684 2249.26,372.684 2249.26,130.764 1958.43,130.764 1958.43,372.684 \n",
       "  \"/>\n",
       "<polyline clip-path=\"url(#clip3601)\" style=\"stroke:#009af9; stroke-width:4; stroke-opacity:1; fill:none\" points=\"\n",
       "  1982.43,191.244 2126.43,191.244 \n",
       "  \"/>\n",
       "<g clip-path=\"url(#clip3601)\">\n",
       "<text style=\"fill:#000000; fill-opacity:1; font-family:Arial,Helvetica Neue,Helvetica,sans-serif; font-size:48px; text-anchor:start;\" transform=\"rotate(0, 2150.43, 208.744)\" x=\"2150.43\" y=\"208.744\">y1</text>\n",
       "</g>\n",
       "<polyline clip-path=\"url(#clip3601)\" style=\"stroke:#e26f46; stroke-width:4; stroke-opacity:1; fill:none\" points=\"\n",
       "  1982.43,251.724 2126.43,251.724 \n",
       "  \"/>\n",
       "<g clip-path=\"url(#clip3601)\">\n",
       "<text style=\"fill:#000000; fill-opacity:1; font-family:Arial,Helvetica Neue,Helvetica,sans-serif; font-size:48px; text-anchor:start;\" transform=\"rotate(0, 2150.43, 269.224)\" x=\"2150.43\" y=\"269.224\">y2</text>\n",
       "</g>\n",
       "<polyline clip-path=\"url(#clip3601)\" style=\"stroke:#3da44d; stroke-width:4; stroke-opacity:1; fill:none\" points=\"\n",
       "  1982.43,312.204 2126.43,312.204 \n",
       "  \"/>\n",
       "<g clip-path=\"url(#clip3601)\">\n",
       "<text style=\"fill:#000000; fill-opacity:1; font-family:Arial,Helvetica Neue,Helvetica,sans-serif; font-size:48px; text-anchor:start;\" transform=\"rotate(0, 2150.43, 329.704)\" x=\"2150.43\" y=\"329.704\">y3</text>\n",
       "</g>\n",
       "</svg>\n"
      ]
     },
     "execution_count": 67,
     "metadata": {},
     "output_type": "execute_result"
    }
   ],
   "source": [
    "plot(1:n, [time(n, 0), time(n, 0.8), time(n, 0.98)])"
   ]
  },
  {
   "cell_type": "markdown",
   "metadata": {
    "slideshow": {
     "slide_type": "subslide"
    }
   },
   "source": [
    "### Exercise 7\n",
    "\n",
    "This exercise is more challenging\n",
    "\n",
    "Take a random walk, starting from $ x_0 = 1 $\n",
    "\n",
    "$$\n",
    "x_{t+1} = \\, \\alpha \\, x_t + \\sigma\\, \\epsilon_{t+1}\n",
    "\\quad \\text{where} \\quad\n",
    "x_0 = 1\n",
    "\\quad \\text{and} \\quad t = 0,\\ldots,t_{\\max}\n",
    "$$\n",
    "\n",
    "- Furthermore, assume that the $ x_{t_{\\max}} = 0 $  (i.e. at $ t_{\\max} $, the value drops to zero, regardless of its current state)  \n",
    "- The sequence of shocks $ \\{\\epsilon_t\\} $ is assumed to be iid and standard normal  \n",
    "- For a given path $ \\{x_t\\} $ define a **first-passage time** as $ T_a = \\min\\{t\\, |\\, x_t \\leq a\\} $, where by the assumption of the process $ T_a \\leq t_{\\max} $  \n",
    "\n",
    "\n",
    "Start with $ \\sigma = 0.2, \\alpha = 1.0 $\n",
    "\n",
    "1. calculate the first-passage time, $ T_0 $, for 100 simulated random walks – to a $ t_{\\max} = 200 $ and plot a histogram  \n",
    "1. plot the sample mean of $ T_0 $ from the simulation for $ \\alpha \\in \\{0.8, 1.0, 1.2\\} $  \n",
    "\n",
    "\n",
    "\n",
    "<a id='jbe-ex8a'></a>"
   ]
  },
  {
   "cell_type": "code",
   "execution_count": 294,
   "metadata": {},
   "outputs": [
    {
     "data": {
      "image/svg+xml": [
       "<?xml version=\"1.0\" encoding=\"utf-8\"?>\n",
       "<svg xmlns=\"http://www.w3.org/2000/svg\" xmlns:xlink=\"http://www.w3.org/1999/xlink\" width=\"600\" height=\"400\" viewBox=\"0 0 2400 1600\">\n",
       "<defs>\n",
       "  <clipPath id=\"clip7500\">\n",
       "    <rect x=\"0\" y=\"0\" width=\"2000\" height=\"2000\"/>\n",
       "  </clipPath>\n",
       "</defs>\n",
       "<defs>\n",
       "  <clipPath id=\"clip7501\">\n",
       "    <rect x=\"0\" y=\"0\" width=\"2400\" height=\"1600\"/>\n",
       "  </clipPath>\n",
       "</defs>\n",
       "<polygon clip-path=\"url(#clip7501)\" points=\"\n",
       "0,1600 2400,1600 2400,0 0,0 \n",
       "  \" fill=\"#ffffff\" fill-rule=\"evenodd\" fill-opacity=\"1\"/>\n",
       "<defs>\n",
       "  <clipPath id=\"clip7502\">\n",
       "    <rect x=\"480\" y=\"0\" width=\"1681\" height=\"1600\"/>\n",
       "  </clipPath>\n",
       "</defs>\n",
       "<polygon clip-path=\"url(#clip7501)\" points=\"\n",
       "174.775,1503.47 2321.26,1503.47 2321.26,47.2441 174.775,47.2441 \n",
       "  \" fill=\"#ffffff\" fill-rule=\"evenodd\" fill-opacity=\"1\"/>\n",
       "<defs>\n",
       "  <clipPath id=\"clip7503\">\n",
       "    <rect x=\"174\" y=\"47\" width=\"2147\" height=\"1457\"/>\n",
       "  </clipPath>\n",
       "</defs>\n",
       "<polyline clip-path=\"url(#clip7503)\" style=\"stroke:#000000; stroke-width:2; stroke-opacity:0.1; fill:none\" points=\"\n",
       "  235.525,1503.47 235.525,47.2441 \n",
       "  \"/>\n",
       "<polyline clip-path=\"url(#clip7503)\" style=\"stroke:#000000; stroke-width:2; stroke-opacity:0.1; fill:none\" points=\"\n",
       "  741.771,1503.47 741.771,47.2441 \n",
       "  \"/>\n",
       "<polyline clip-path=\"url(#clip7503)\" style=\"stroke:#000000; stroke-width:2; stroke-opacity:0.1; fill:none\" points=\"\n",
       "  1248.02,1503.47 1248.02,47.2441 \n",
       "  \"/>\n",
       "<polyline clip-path=\"url(#clip7503)\" style=\"stroke:#000000; stroke-width:2; stroke-opacity:0.1; fill:none\" points=\"\n",
       "  1754.26,1503.47 1754.26,47.2441 \n",
       "  \"/>\n",
       "<polyline clip-path=\"url(#clip7503)\" style=\"stroke:#000000; stroke-width:2; stroke-opacity:0.1; fill:none\" points=\"\n",
       "  2260.51,1503.47 2260.51,47.2441 \n",
       "  \"/>\n",
       "<polyline clip-path=\"url(#clip7503)\" style=\"stroke:#000000; stroke-width:2; stroke-opacity:0.1; fill:none\" points=\"\n",
       "  174.775,1179.53 2321.26,1179.53 \n",
       "  \"/>\n",
       "<polyline clip-path=\"url(#clip7503)\" style=\"stroke:#000000; stroke-width:2; stroke-opacity:0.1; fill:none\" points=\"\n",
       "  174.775,815.838 2321.26,815.838 \n",
       "  \"/>\n",
       "<polyline clip-path=\"url(#clip7503)\" style=\"stroke:#000000; stroke-width:2; stroke-opacity:0.1; fill:none\" points=\"\n",
       "  174.775,452.148 2321.26,452.148 \n",
       "  \"/>\n",
       "<polyline clip-path=\"url(#clip7503)\" style=\"stroke:#000000; stroke-width:2; stroke-opacity:0.1; fill:none\" points=\"\n",
       "  174.775,88.4582 2321.26,88.4582 \n",
       "  \"/>\n",
       "<polyline clip-path=\"url(#clip7501)\" style=\"stroke:#000000; stroke-width:4; stroke-opacity:1; fill:none\" points=\"\n",
       "  174.775,1503.47 2321.26,1503.47 \n",
       "  \"/>\n",
       "<polyline clip-path=\"url(#clip7501)\" style=\"stroke:#000000; stroke-width:4; stroke-opacity:1; fill:none\" points=\"\n",
       "  174.775,1503.47 174.775,47.2441 \n",
       "  \"/>\n",
       "<polyline clip-path=\"url(#clip7501)\" style=\"stroke:#000000; stroke-width:4; stroke-opacity:1; fill:none\" points=\"\n",
       "  235.525,1503.47 235.525,1481.63 \n",
       "  \"/>\n",
       "<polyline clip-path=\"url(#clip7501)\" style=\"stroke:#000000; stroke-width:4; stroke-opacity:1; fill:none\" points=\"\n",
       "  741.771,1503.47 741.771,1481.63 \n",
       "  \"/>\n",
       "<polyline clip-path=\"url(#clip7501)\" style=\"stroke:#000000; stroke-width:4; stroke-opacity:1; fill:none\" points=\"\n",
       "  1248.02,1503.47 1248.02,1481.63 \n",
       "  \"/>\n",
       "<polyline clip-path=\"url(#clip7501)\" style=\"stroke:#000000; stroke-width:4; stroke-opacity:1; fill:none\" points=\"\n",
       "  1754.26,1503.47 1754.26,1481.63 \n",
       "  \"/>\n",
       "<polyline clip-path=\"url(#clip7501)\" style=\"stroke:#000000; stroke-width:4; stroke-opacity:1; fill:none\" points=\"\n",
       "  2260.51,1503.47 2260.51,1481.63 \n",
       "  \"/>\n",
       "<polyline clip-path=\"url(#clip7501)\" style=\"stroke:#000000; stroke-width:4; stroke-opacity:1; fill:none\" points=\"\n",
       "  174.775,1179.53 206.972,1179.53 \n",
       "  \"/>\n",
       "<polyline clip-path=\"url(#clip7501)\" style=\"stroke:#000000; stroke-width:4; stroke-opacity:1; fill:none\" points=\"\n",
       "  174.775,815.838 206.972,815.838 \n",
       "  \"/>\n",
       "<polyline clip-path=\"url(#clip7501)\" style=\"stroke:#000000; stroke-width:4; stroke-opacity:1; fill:none\" points=\"\n",
       "  174.775,452.148 206.972,452.148 \n",
       "  \"/>\n",
       "<polyline clip-path=\"url(#clip7501)\" style=\"stroke:#000000; stroke-width:4; stroke-opacity:1; fill:none\" points=\"\n",
       "  174.775,88.4582 206.972,88.4582 \n",
       "  \"/>\n",
       "<g clip-path=\"url(#clip7501)\">\n",
       "<text style=\"fill:#000000; fill-opacity:1; font-family:Arial,Helvetica Neue,Helvetica,sans-serif; font-size:48px; text-anchor:middle;\" transform=\"rotate(0, 235.525, 1557.47)\" x=\"235.525\" y=\"1557.47\">0.8</text>\n",
       "</g>\n",
       "<g clip-path=\"url(#clip7501)\">\n",
       "<text style=\"fill:#000000; fill-opacity:1; font-family:Arial,Helvetica Neue,Helvetica,sans-serif; font-size:48px; text-anchor:middle;\" transform=\"rotate(0, 741.771, 1557.47)\" x=\"741.771\" y=\"1557.47\">0.9</text>\n",
       "</g>\n",
       "<g clip-path=\"url(#clip7501)\">\n",
       "<text style=\"fill:#000000; fill-opacity:1; font-family:Arial,Helvetica Neue,Helvetica,sans-serif; font-size:48px; text-anchor:middle;\" transform=\"rotate(0, 1248.02, 1557.47)\" x=\"1248.02\" y=\"1557.47\">1.0</text>\n",
       "</g>\n",
       "<g clip-path=\"url(#clip7501)\">\n",
       "<text style=\"fill:#000000; fill-opacity:1; font-family:Arial,Helvetica Neue,Helvetica,sans-serif; font-size:48px; text-anchor:middle;\" transform=\"rotate(0, 1754.26, 1557.47)\" x=\"1754.26\" y=\"1557.47\">1.1</text>\n",
       "</g>\n",
       "<g clip-path=\"url(#clip7501)\">\n",
       "<text style=\"fill:#000000; fill-opacity:1; font-family:Arial,Helvetica Neue,Helvetica,sans-serif; font-size:48px; text-anchor:middle;\" transform=\"rotate(0, 2260.51, 1557.47)\" x=\"2260.51\" y=\"1557.47\">1.2</text>\n",
       "</g>\n",
       "<g clip-path=\"url(#clip7501)\">\n",
       "<text style=\"fill:#000000; fill-opacity:1; font-family:Arial,Helvetica Neue,Helvetica,sans-serif; font-size:48px; text-anchor:end;\" transform=\"rotate(0, 150.775, 1197.03)\" x=\"150.775\" y=\"1197.03\">50</text>\n",
       "</g>\n",
       "<g clip-path=\"url(#clip7501)\">\n",
       "<text style=\"fill:#000000; fill-opacity:1; font-family:Arial,Helvetica Neue,Helvetica,sans-serif; font-size:48px; text-anchor:end;\" transform=\"rotate(0, 150.775, 833.338)\" x=\"150.775\" y=\"833.338\">100</text>\n",
       "</g>\n",
       "<g clip-path=\"url(#clip7501)\">\n",
       "<text style=\"fill:#000000; fill-opacity:1; font-family:Arial,Helvetica Neue,Helvetica,sans-serif; font-size:48px; text-anchor:end;\" transform=\"rotate(0, 150.775, 469.648)\" x=\"150.775\" y=\"469.648\">150</text>\n",
       "</g>\n",
       "<g clip-path=\"url(#clip7501)\">\n",
       "<text style=\"fill:#000000; fill-opacity:1; font-family:Arial,Helvetica Neue,Helvetica,sans-serif; font-size:48px; text-anchor:end;\" transform=\"rotate(0, 150.775, 105.958)\" x=\"150.775\" y=\"105.958\">200</text>\n",
       "</g>\n",
       "<circle clip-path=\"url(#clip7503)\" style=\"fill:#000000; stroke:none; fill-opacity:1\" cx=\"235.525\" cy=\"1462.26\" r=\"18\"/>\n",
       "<circle clip-path=\"url(#clip7503)\" style=\"fill:#009af9; stroke:none; fill-opacity:1\" cx=\"235.525\" cy=\"1462.26\" r=\"14\"/>\n",
       "<circle clip-path=\"url(#clip7503)\" style=\"fill:#000000; stroke:none; fill-opacity:1\" cx=\"1248.02\" cy=\"767.322\" r=\"18\"/>\n",
       "<circle clip-path=\"url(#clip7503)\" style=\"fill:#009af9; stroke:none; fill-opacity:1\" cx=\"1248.02\" cy=\"767.322\" r=\"14\"/>\n",
       "<circle clip-path=\"url(#clip7503)\" style=\"fill:#000000; stroke:none; fill-opacity:1\" cx=\"2260.51\" cy=\"88.4582\" r=\"18\"/>\n",
       "<circle clip-path=\"url(#clip7503)\" style=\"fill:#009af9; stroke:none; fill-opacity:1\" cx=\"2260.51\" cy=\"88.4582\" r=\"14\"/>\n",
       "<polygon clip-path=\"url(#clip7501)\" points=\"\n",
       "1958.43,251.724 2249.26,251.724 2249.26,130.764 1958.43,130.764 \n",
       "  \" fill=\"#ffffff\" fill-rule=\"evenodd\" fill-opacity=\"1\"/>\n",
       "<polyline clip-path=\"url(#clip7501)\" style=\"stroke:#000000; stroke-width:4; stroke-opacity:1; fill:none\" points=\"\n",
       "  1958.43,251.724 2249.26,251.724 2249.26,130.764 1958.43,130.764 1958.43,251.724 \n",
       "  \"/>\n",
       "<circle clip-path=\"url(#clip7501)\" style=\"fill:#000000; stroke:none; fill-opacity:1\" cx=\"2066.43\" cy=\"191.244\" r=\"25\"/>\n",
       "<circle clip-path=\"url(#clip7501)\" style=\"fill:#009af9; stroke:none; fill-opacity:1\" cx=\"2066.43\" cy=\"191.244\" r=\"21\"/>\n",
       "<g clip-path=\"url(#clip7501)\">\n",
       "<text style=\"fill:#000000; fill-opacity:1; font-family:Arial,Helvetica Neue,Helvetica,sans-serif; font-size:48px; text-anchor:start;\" transform=\"rotate(0, 2150.43, 208.744)\" x=\"2150.43\" y=\"208.744\">y1</text>\n",
       "</g>\n",
       "</svg>\n"
      ]
     },
     "execution_count": 294,
     "metadata": {},
     "output_type": "execute_result"
    }
   ],
   "source": [
    "using Statistics\n",
    "function fpt(n, tmax, a, alpha, o)\n",
    "    T = fill(tmax, n)\n",
    "    for i in 1: n\n",
    "        x = zeros(tmax)\n",
    "        x[1] = 1\n",
    "        e = randn(tmax)\n",
    "        for j in 1:tmax - 1\n",
    "            x[j + 1] = alpha * x[j] + o * e[j]\n",
    "            if x[j + 1] < a\n",
    "                T[i] = j\n",
    "                break\n",
    "            end\n",
    "        end\n",
    "    end\n",
    "    return T\n",
    "end\n",
    "a = 0\n",
    "tmax = 200\n",
    "n = 100\n",
    "histogram(fpt(n, tmax, a, 1, 0.2))\n",
    "m = [mean(fpt(n, tmax, a, 0.8, 0.2)), mean(fpt(n, tmax, a, 1, 0.2)), mean(fpt(n, tmax, a, 1.2, 0.2))]\n",
    "scatter([0.8, 1, 1.2], m)\n",
    "#I didn't really understand what you meant with plot the mean"
   ]
  },
  {
   "cell_type": "markdown",
   "metadata": {
    "slideshow": {
     "slide_type": "subslide"
    }
   },
   "source": [
    "### Exercise 8(a)\n",
    "\n",
    "This exercise is more challenging\n",
    "\n",
    "The root of a univariate function $ f(\\cdot) $ is an $ x $ such that $ f(x) = 0 $\n",
    "\n",
    "One solution method to find local roots of smooth functions is called Newton’s method\n",
    "\n",
    "Starting with an $ x_0 $ guess, a function $ f(\\cdot) $ and the first-derivative $ f'(\\cdot) $, the algorithm is to repeat\n",
    "\n",
    "$$\n",
    "x^{n+1} = x^n - \\frac{f(x^n)}{f'(x^n)}\n",
    "$$\n",
    "\n",
    "until $ | x^{n+1} - x^n| $ is below a tolerance\n",
    "\n",
    "1. Use a variation of the `fixedpointmap` code to implement Newton’s method, where the function would accept arguments `f, f_prime, x_0, tolerance, maxiter`  \n",
    "1. Test it with $ f(x) = (x-1)^3 $ and another function of your choice where you can analytically find the derivative  "
   ]
  },
  {
   "cell_type": "code",
   "execution_count": 2,
   "metadata": {},
   "outputs": [
    {
     "data": {
      "text/plain": [
       "newton (generic function with 1 method)"
      ]
     },
     "execution_count": 2,
     "metadata": {},
     "output_type": "execute_result"
    }
   ],
   "source": [
    "function newton(f, f_prime, x_0, tolerance, maxiter)\n",
    "    i = 0\n",
    "    tol = Inf\n",
    "    x_old = x_0\n",
    "    while i <= maxiter && tol > tolerance\n",
    "        x_new = x_old - f(x_old) / f_prime(x_old)\n",
    "        tol = abs(x_new - x_old)\n",
    "        x_old = x_new\n",
    "        i += 1\n",
    "    end\n",
    "    if i >= maxiter\n",
    "            println(\"No convergence: reached max iteration\")\n",
    "    end\n",
    "    return x_old\n",
    "end\n"
   ]
  },
  {
   "cell_type": "code",
   "execution_count": 3,
   "metadata": {},
   "outputs": [
    {
     "name": "stdout",
     "output_type": "stream",
     "text": [
      "0.009765625\n",
      "1.013701949563127\n"
     ]
    }
   ],
   "source": [
    "f = x-> x^2\n",
    "f_prime = x-> 2 * x\n",
    "println(newton(f, f_prime, 10, 0.01, 1000))\n",
    "\n",
    "f = x->(x - 1)^3\n",
    "f_prime = x->3 * (x - 1)^2\n",
    "println(newton(f, f_prime, 10, 0.01, 1000))"
   ]
  },
  {
   "cell_type": "markdown",
   "metadata": {
    "slideshow": {
     "slide_type": "subslide"
    }
   },
   "source": [
    "### Exercise 8(b)\n",
    "\n",
    "For those impatient to use more advanced features of Julia, implement a version of Exercise 8(a) where `f_prime` is calculated with auto-differentiation"
   ]
  },
  {
   "cell_type": "code",
   "execution_count": 369,
   "metadata": {
    "hide-output": false,
    "slideshow": {
     "slide_type": "subslide"
    }
   },
   "outputs": [
    {
     "ename": "ErrorException",
     "evalue": "cannot define function f; it already has a value",
     "output_type": "error",
     "traceback": [
      "cannot define function f; it already has a value",
      "",
      "Stacktrace:",
      " [1] top-level scope at In[369]:5"
     ]
    }
   ],
   "source": [
    "using ForwardDiff\n",
    "\n",
    "# operator to get the derivative of this function using AD\n",
    "D(f) = x -> ForwardDiff.derivative(f, x)\n",
    "\n",
    "# example usage: create a function and get the derivative\n",
    "f(x) = x^2\n",
    "f_prime = D(f)\n",
    "\n",
    "f(0.1), f_prime(0.1)"
   ]
  },
  {
   "cell_type": "code",
   "execution_count": 371,
   "metadata": {},
   "outputs": [
    {
     "data": {
      "text/plain": [
       "newton2 (generic function with 1 method)"
      ]
     },
     "execution_count": 371,
     "metadata": {},
     "output_type": "execute_result"
    }
   ],
   "source": [
    "function newton2(f, x_0, tolerance, maxiter)\n",
    "    i = 0\n",
    "    tol = Inf\n",
    "    x_old = x_0\n",
    "    D(f) = x -> ForwardDiff.derivative(f, x)\n",
    "    f_prime = D(f)\n",
    "    while i <= maxiter && tol > tolerance\n",
    "        x_new = x_old - f(x_old) / f_prime(x_old)\n",
    "        tol = abs(x_new - x_old)\n",
    "        x_old = x_new\n",
    "        i += 1\n",
    "    end\n",
    "    if i >= maxiter\n",
    "            println(\"No convergence: reached max iteration\")\n",
    "    end\n",
    "    return x_old\n",
    "end"
   ]
  },
  {
   "cell_type": "code",
   "execution_count": 373,
   "metadata": {},
   "outputs": [
    {
     "name": "stdout",
     "output_type": "stream",
     "text": [
      "0.009765625\n",
      "1.013701949563127\n"
     ]
    }
   ],
   "source": [
    "f = x-> x^2\n",
    "println(newton2(f, 10, 0.01, 1000))\n",
    "\n",
    "f = x->(x - 1)^3\n",
    "println(newton2(f, 10, 0.01, 1000))"
   ]
  },
  {
   "cell_type": "markdown",
   "metadata": {
    "slideshow": {
     "slide_type": "subslide"
    }
   },
   "source": [
    "1. Using the `D(f)` operator definition above, implement a version of Newton’s method that does not require the user to provide an analytical derivative  \n",
    "1. Test the sorts of `f` functions which can be automatically integrated by `ForwardDff.jl`  "
   ]
  }
 ],
 "metadata": {
  "celltoolbar": "Slideshow",
  "filename": "julia_by_example.rst",
  "kernelspec": {
   "display_name": "Julia 1.1.0",
   "language": "julia",
   "name": "julia-1.1"
  },
  "language_info": {
   "file_extension": ".jl",
   "mimetype": "application/julia",
   "name": "julia",
   "version": "1.1.0"
  },
  "title": "Introductory Examples"
 },
 "nbformat": 4,
 "nbformat_minor": 2
}
